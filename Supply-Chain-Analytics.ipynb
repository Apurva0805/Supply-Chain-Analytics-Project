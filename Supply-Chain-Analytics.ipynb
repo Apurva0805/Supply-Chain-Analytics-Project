{
  "metadata": {
    "kernelspec": {
      "name": "python",
      "display_name": "Python (Pyodide)",
      "language": "python"
    },
    "language_info": {
      "codemirror_mode": {
        "name": "python",
        "version": 3
      },
      "file_extension": ".py",
      "mimetype": "text/x-python",
      "name": "python",
      "nbconvert_exporter": "python",
      "pygments_lexer": "ipython3",
      "version": "3.8"
    }
  },
  "nbformat_minor": 5,
  "nbformat": 4,
  "cells": [
    {
      "id": "9a9d88ce-231e-4ef3-80b1-33c3ef6b5577",
      "cell_type": "code",
      "source": "import pandas as pd \ndf = pd.read_csv('supply_chain_data.csv')  \ndf.head()",
      "metadata": {
        "trusted": true
      },
      "outputs": [
        {
          "execution_count": 1,
          "output_type": "execute_result",
          "data": {
            "text/plain": "   Order_ID Product_ID Product_Name Region  Order_Date  Expected_Time  \\\n0      1001       P001       Laptop  North  2024-01-15              3   \n1      1002       P002        Mouse  South  2024-01-17              2   \n2      1003       P001       Laptop   East  2024-01-20              4   \n3      1004       P003     Keyboard   West  2024-01-21              3   \n4      1005       P004      Monitor  North  2024-01-25              5   \n\n   Delivery_Time   Cost  \n0              4  45000  \n1              2    800  \n2              6  46000  \n3              2   1200  \n4              7  15000  ",
            "text/html": "<div>\n<style scoped>\n    .dataframe tbody tr th:only-of-type {\n        vertical-align: middle;\n    }\n\n    .dataframe tbody tr th {\n        vertical-align: top;\n    }\n\n    .dataframe thead th {\n        text-align: right;\n    }\n</style>\n<table border=\"1\" class=\"dataframe\">\n  <thead>\n    <tr style=\"text-align: right;\">\n      <th></th>\n      <th>Order_ID</th>\n      <th>Product_ID</th>\n      <th>Product_Name</th>\n      <th>Region</th>\n      <th>Order_Date</th>\n      <th>Expected_Time</th>\n      <th>Delivery_Time</th>\n      <th>Cost</th>\n    </tr>\n  </thead>\n  <tbody>\n    <tr>\n      <th>0</th>\n      <td>1001</td>\n      <td>P001</td>\n      <td>Laptop</td>\n      <td>North</td>\n      <td>2024-01-15</td>\n      <td>3</td>\n      <td>4</td>\n      <td>45000</td>\n    </tr>\n    <tr>\n      <th>1</th>\n      <td>1002</td>\n      <td>P002</td>\n      <td>Mouse</td>\n      <td>South</td>\n      <td>2024-01-17</td>\n      <td>2</td>\n      <td>2</td>\n      <td>800</td>\n    </tr>\n    <tr>\n      <th>2</th>\n      <td>1003</td>\n      <td>P001</td>\n      <td>Laptop</td>\n      <td>East</td>\n      <td>2024-01-20</td>\n      <td>4</td>\n      <td>6</td>\n      <td>46000</td>\n    </tr>\n    <tr>\n      <th>3</th>\n      <td>1004</td>\n      <td>P003</td>\n      <td>Keyboard</td>\n      <td>West</td>\n      <td>2024-01-21</td>\n      <td>3</td>\n      <td>2</td>\n      <td>1200</td>\n    </tr>\n    <tr>\n      <th>4</th>\n      <td>1005</td>\n      <td>P004</td>\n      <td>Monitor</td>\n      <td>North</td>\n      <td>2024-01-25</td>\n      <td>5</td>\n      <td>7</td>\n      <td>15000</td>\n    </tr>\n  </tbody>\n</table>\n</div>"
          },
          "metadata": {}
        }
      ],
      "execution_count": 1
    },
    {
      "id": "c6e612f4-9131-47b8-bada-e9810fe91a36",
      "cell_type": "code",
      "source": "df.shape",
      "metadata": {
        "trusted": true
      },
      "outputs": [
        {
          "execution_count": 3,
          "output_type": "execute_result",
          "data": {
            "text/plain": "(6, 8)"
          },
          "metadata": {}
        }
      ],
      "execution_count": 3
    },
    {
      "id": "4380617b-989f-4c6a-bd8d-5d8aa0f3f257",
      "cell_type": "code",
      "source": "df.columns",
      "metadata": {
        "trusted": true
      },
      "outputs": [
        {
          "execution_count": 4,
          "output_type": "execute_result",
          "data": {
            "text/plain": "Index(['Order_ID', 'Product_ID', 'Product_Name', 'Region', 'Order_Date',\n       'Expected_Time', 'Delivery_Time', 'Cost'],\n      dtype='object')"
          },
          "metadata": {}
        }
      ],
      "execution_count": 4
    },
    {
      "id": "401c4748-e607-4d0c-9a85-d445b1c4aac6",
      "cell_type": "code",
      "source": "df.dtypes",
      "metadata": {
        "trusted": true
      },
      "outputs": [
        {
          "execution_count": 5,
          "output_type": "execute_result",
          "data": {
            "text/plain": "Order_ID          int64\nProduct_ID       object\nProduct_Name     object\nRegion           object\nOrder_Date       object\nExpected_Time     int64\nDelivery_Time     int64\nCost              int64\ndtype: object"
          },
          "metadata": {}
        }
      ],
      "execution_count": 5
    },
    {
      "id": "bf9c8641-d2bf-48f0-9c50-2597639c0188",
      "cell_type": "code",
      "source": "df.isnull().sum()",
      "metadata": {
        "trusted": true
      },
      "outputs": [
        {
          "execution_count": 6,
          "output_type": "execute_result",
          "data": {
            "text/plain": "Order_ID         0\nProduct_ID       0\nProduct_Name     0\nRegion           0\nOrder_Date       0\nExpected_Time    0\nDelivery_Time    0\nCost             0\ndtype: int64"
          },
          "metadata": {}
        }
      ],
      "execution_count": 6
    },
    {
      "id": "79ba1917-2a75-44f6-b090-83772088330f",
      "cell_type": "code",
      "source": "df.dropna(inplace = True)",
      "metadata": {
        "trusted": true
      },
      "outputs": [],
      "execution_count": 8
    },
    {
      "id": "6c89afab-08ed-49f5-a977-ec4984182a09",
      "cell_type": "code",
      "source": "df.rename(columns={'Region': 'Product_region'}, inplace=True)",
      "metadata": {
        "trusted": true
      },
      "outputs": [],
      "execution_count": 11
    },
    {
      "id": "e850b786-5148-40fb-aa83-7c9657b054ac",
      "cell_type": "code",
      "source": "df.head()",
      "metadata": {
        "trusted": true
      },
      "outputs": [
        {
          "execution_count": 14,
          "output_type": "execute_result",
          "data": {
            "text/plain": "   Order_ID Product_ID Product_Name Product_region  Order_Date  Expected_Time  \\\n0      1001       P001       Laptop          North  2024-01-15              3   \n1      1002       P002        Mouse          South  2024-01-17              2   \n2      1003       P001       Laptop           East  2024-01-20              4   \n3      1004       P003     Keyboard           West  2024-01-21              3   \n4      1005       P004      Monitor          North  2024-01-25              5   \n\n   Delivery_Time   Cost  Delayed  \n0              4  45000     True  \n1              2    800    False  \n2              6  46000     True  \n3              2   1200    False  \n4              7  15000     True  ",
            "text/html": "<div>\n<style scoped>\n    .dataframe tbody tr th:only-of-type {\n        vertical-align: middle;\n    }\n\n    .dataframe tbody tr th {\n        vertical-align: top;\n    }\n\n    .dataframe thead th {\n        text-align: right;\n    }\n</style>\n<table border=\"1\" class=\"dataframe\">\n  <thead>\n    <tr style=\"text-align: right;\">\n      <th></th>\n      <th>Order_ID</th>\n      <th>Product_ID</th>\n      <th>Product_Name</th>\n      <th>Product_region</th>\n      <th>Order_Date</th>\n      <th>Expected_Time</th>\n      <th>Delivery_Time</th>\n      <th>Cost</th>\n      <th>Delayed</th>\n    </tr>\n  </thead>\n  <tbody>\n    <tr>\n      <th>0</th>\n      <td>1001</td>\n      <td>P001</td>\n      <td>Laptop</td>\n      <td>North</td>\n      <td>2024-01-15</td>\n      <td>3</td>\n      <td>4</td>\n      <td>45000</td>\n      <td>True</td>\n    </tr>\n    <tr>\n      <th>1</th>\n      <td>1002</td>\n      <td>P002</td>\n      <td>Mouse</td>\n      <td>South</td>\n      <td>2024-01-17</td>\n      <td>2</td>\n      <td>2</td>\n      <td>800</td>\n      <td>False</td>\n    </tr>\n    <tr>\n      <th>2</th>\n      <td>1003</td>\n      <td>P001</td>\n      <td>Laptop</td>\n      <td>East</td>\n      <td>2024-01-20</td>\n      <td>4</td>\n      <td>6</td>\n      <td>46000</td>\n      <td>True</td>\n    </tr>\n    <tr>\n      <th>3</th>\n      <td>1004</td>\n      <td>P003</td>\n      <td>Keyboard</td>\n      <td>West</td>\n      <td>2024-01-21</td>\n      <td>3</td>\n      <td>2</td>\n      <td>1200</td>\n      <td>False</td>\n    </tr>\n    <tr>\n      <th>4</th>\n      <td>1005</td>\n      <td>P004</td>\n      <td>Monitor</td>\n      <td>North</td>\n      <td>2024-01-25</td>\n      <td>5</td>\n      <td>7</td>\n      <td>15000</td>\n      <td>True</td>\n    </tr>\n  </tbody>\n</table>\n</div>"
          },
          "metadata": {}
        }
      ],
      "execution_count": 14
    },
    {
      "id": "e1d6b454-1109-4cd8-81f8-011bb2d6f1c6",
      "cell_type": "code",
      "source": "df['Delayed'] = df['Delivery_Time'] > df['Expected_Time']",
      "metadata": {
        "trusted": true
      },
      "outputs": [],
      "execution_count": 13
    },
    {
      "id": "d9baf111-58ce-4e9a-a6ab-f02cc2c1e201",
      "cell_type": "code",
      "source": "region_group = df.groupby('Product_region')['Delivery_Time'].mean()\nprint(region_group)",
      "metadata": {
        "trusted": true
      },
      "outputs": [
        {
          "name": "stdout",
          "output_type": "stream",
          "text": "Product_region\nEast     6.0\nNorth    5.5\nSouth    2.5\nWest     2.0\nName: Delivery_Time, dtype: float64\n"
        }
      ],
      "execution_count": 19
    },
    {
      "id": "8d41e389-3a89-4e0e-9b3f-77875598e941",
      "cell_type": "code",
      "source": "summary = df.groupby('Product_region').agg(\n    Total_Orders=('Order_ID', 'count'),\n    Delayed_Orders=('Delayed', 'sum')\n)\nsummary['Delay_%'] = (summary['Delayed_Orders'] / summary['Total_Orders']) * 100\nprint(summary)",
      "metadata": {
        "trusted": true
      },
      "outputs": [
        {
          "name": "stdout",
          "output_type": "stream",
          "text": "                Total_Orders  Delayed_Orders  Delay_%\nProduct_region                                       \nEast                       1               1    100.0\nNorth                      2               2    100.0\nSouth                      2               1     50.0\nWest                       1               0      0.0\n"
        }
      ],
      "execution_count": 20
    },
    {
      "id": "4a2fe118-207d-4be5-a83d-6b9f2d881dda",
      "cell_type": "code",
      "source": "df.to_csv('cleaned_supply_chain.csv', index= False)",
      "metadata": {
        "trusted": true
      },
      "outputs": [],
      "execution_count": 22
    },
    {
      "id": "81d7e2f5-7890-4687-9d93-2636f6307152",
      "cell_type": "code",
      "source": "print('Cleaned data saved!Ready to visualize.')",
      "metadata": {
        "trusted": true
      },
      "outputs": [
        {
          "name": "stdout",
          "output_type": "stream",
          "text": "Cleaned data saved!Ready to visualize.\n"
        }
      ],
      "execution_count": 23
    },
    {
      "id": "ded53dd2-2374-4ffc-a1f3-f6ca7aa71db6",
      "cell_type": "code",
      "source": "",
      "metadata": {
        "trusted": true
      },
      "outputs": [],
      "execution_count": null
    }
  ]
}